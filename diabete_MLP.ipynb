{
 "cells": [
  {
   "cell_type": "code",
   "execution_count": null,
   "id": "eda34228",
   "metadata": {},
   "outputs": [],
   "source": []
  },
  {
   "cell_type": "markdown",
   "id": "a602827b",
   "metadata": {},
   "source": [
    "# Get the diabete dataset"
   ]
  },
  {
   "cell_type": "code",
   "execution_count": null,
   "id": "c0ea6123",
   "metadata": {},
   "outputs": [],
   "source": [
    "import requests"
   ]
  },
  {
   "cell_type": "code",
   "execution_count": null,
   "id": "3418a57f",
   "metadata": {},
   "outputs": [],
   "source": [
    "dataset_file='diabetes.csv'\n",
    "url = 'https://raw.githubusercontent.com/plotly/datasets/master/diabetes.csv'\n",
    "\n",
    "response = requests.get(url)\n",
    "\n",
    "if response.status_code == 200:\n",
    "    with open(dataset_file, 'wb') as f:\n",
    "        f.write(response.content)\n",
    "    print(f'File downloaded successfully to: {dataset_file}')\n",
    "else:\n",
    "    print(f'Failed to download the file. Status code: {response.status_code}')"
   ]
  },
  {
   "cell_type": "markdown",
   "id": "7a8712a8",
   "metadata": {},
   "source": [
    "# Deep learning: MLP\n",
    "Below code are copied from https://www.pluralsight.com/guides/machine-learning-neural-networks-scikit-learn\n",
    "\n",
    "For detail explaination, please see that page"
   ]
  },
  {
   "cell_type": "code",
   "execution_count": null,
   "id": "43caed58",
   "metadata": {},
   "outputs": [],
   "source": []
  },
  {
   "cell_type": "markdown",
   "id": "d91cd82f",
   "metadata": {},
   "source": [
    "# Looking at the dataset"
   ]
  },
  {
   "cell_type": "code",
   "execution_count": null,
   "id": "00118722",
   "metadata": {},
   "outputs": [],
   "source": [
    "import pandas as pd  # Package for analysis, manipulation of Tabular data\n",
    "import numpy as np \n",
    "import matplotlib.pyplot as plt\n",
    "import sklearn\n",
    "from sklearn.neural_network import MLPClassifier\n",
    "from sklearn.neural_network import MLPRegressor\n",
    "\n",
    "# Import necessary modules\n",
    "from sklearn.model_selection import train_test_split\n",
    "from sklearn.metrics import mean_squared_error\n",
    "from math import sqrt\n",
    "from sklearn.metrics import r2_score"
   ]
  },
  {
   "cell_type": "code",
   "execution_count": null,
   "id": "164cee20",
   "metadata": {},
   "outputs": [],
   "source": [
    "# Read the csv into a \"DataFrame\", aka Table\n",
    "df_org = pd.read_csv(dataset_file) \n",
    "df_org"
   ]
  },
  {
   "cell_type": "code",
   "execution_count": null,
   "id": "7cbbd482",
   "metadata": {},
   "outputs": [],
   "source": []
  },
  {
   "cell_type": "markdown",
   "id": "8a499c08",
   "metadata": {},
   "source": [
    "## Normalization"
   ]
  },
  {
   "cell_type": "code",
   "execution_count": null,
   "id": "03abc90a",
   "metadata": {},
   "outputs": [],
   "source": [
    "df = pd.DataFrame(columns = df_org.columns)\n",
    "target_column = ['Outcome'] \n",
    "predictors = list(set(list(df_org.columns))-set(target_column))\n",
    "df[predictors] = df_org[predictors]/df_org[predictors].max()\n",
    "df[target_column] = df_org[target_column]\n",
    "df.describe().transpose()"
   ]
  },
  {
   "cell_type": "code",
   "execution_count": null,
   "id": "e14d8280",
   "metadata": {},
   "outputs": [],
   "source": [
    "X = df[predictors].values\n",
    "y = df[target_column].values\n",
    "\n",
    "X_train, X_test, y_train, y_test = train_test_split(X, y, test_size=0.30, random_state=40)\n",
    "y_train = y_train.ravel()\n",
    "y_test = y_test.ravel()\n",
    "print(X_train.shape); print(X_test.shape)"
   ]
  },
  {
   "cell_type": "code",
   "execution_count": null,
   "id": "3a408e68",
   "metadata": {},
   "outputs": [],
   "source": []
  },
  {
   "cell_type": "code",
   "execution_count": null,
   "id": "c9b6c76c",
   "metadata": {},
   "outputs": [],
   "source": [
    "from sklearn.neural_network import MLPClassifier\n",
    "\n",
    "mlp = MLPClassifier(hidden_layer_sizes=(8,8,8), activation='relu', solver='adam', max_iter=500)\n",
    "mlp.fit(X_train,y_train)\n",
    "\n",
    "predict_train = mlp.predict(X_train)\n",
    "predict_test = mlp.predict(X_test)"
   ]
  },
  {
   "cell_type": "code",
   "execution_count": null,
   "id": "5fdbc1fe",
   "metadata": {},
   "outputs": [],
   "source": []
  },
  {
   "cell_type": "markdown",
   "id": "f3cf8e24",
   "metadata": {},
   "source": [
    "# Analysis"
   ]
  },
  {
   "cell_type": "code",
   "execution_count": null,
   "id": "5af707ad",
   "metadata": {},
   "outputs": [],
   "source": [
    "from sklearn.metrics import classification_report,confusion_matrix\n",
    "\n",
    "print(confusion_matrix(y_train,predict_train))\n",
    "print(classification_report(y_train,predict_train))"
   ]
  },
  {
   "cell_type": "code",
   "execution_count": null,
   "id": "f0efb815",
   "metadata": {},
   "outputs": [],
   "source": [
    "print(confusion_matrix(y_test,predict_test))\n",
    "print(classification_report(y_test,predict_test))"
   ]
  },
  {
   "cell_type": "code",
   "execution_count": null,
   "id": "8b1dd236",
   "metadata": {},
   "outputs": [],
   "source": [
    "print(confusion_matrix(y_test,predict_test))\n",
    "print(classification_report(y_test,predict_test))"
   ]
  },
  {
   "cell_type": "markdown",
   "id": "8cce8911",
   "metadata": {},
   "source": [
    "# Using linear regression"
   ]
  },
  {
   "cell_type": "code",
   "execution_count": null,
   "id": "4adeb0f2",
   "metadata": {},
   "outputs": [],
   "source": [
    "from sklearn.linear_model import LogisticRegression"
   ]
  },
  {
   "cell_type": "code",
   "execution_count": null,
   "id": "6849c9db",
   "metadata": {},
   "outputs": [],
   "source": [
    "# Create a logistic regression model\n",
    "model = LogisticRegression()\n",
    "\n",
    "# Fit the model\n",
    "model.fit(X_train, y_train)\n",
    "\n",
    "# Predict the test set results\n",
    "predict_test = model.predict(X_test)"
   ]
  },
  {
   "cell_type": "code",
   "execution_count": null,
   "id": "629a1dc9",
   "metadata": {},
   "outputs": [],
   "source": [
    "print(confusion_matrix(y_test,predict_test))\n",
    "print(classification_report(y_test,predict_test))"
   ]
  },
  {
   "cell_type": "markdown",
   "id": "3cd12c0a",
   "metadata": {},
   "source": [
    "**Note**: linear regression is give you similar accuracy and precision !"
   ]
  },
  {
   "cell_type": "markdown",
   "id": "948ca346",
   "metadata": {},
   "source": [
    "The main difference between Linear regression compare to MLP: \n",
    "    we can actually investigate further what factor have the most impact on the prediction"
   ]
  },
  {
   "cell_type": "code",
   "execution_count": null,
   "id": "22c316aa",
   "metadata": {},
   "outputs": [],
   "source": [
    "# Get the coefficients and feature names\n",
    "coefficients = model.coef_[0]\n",
    "feature_names = df.columns[:-1]  # Assuming the last column is the target variable\n",
    "\n",
    "# Create a dictionary to store feature names and their corresponding coefficients\n",
    "coefficients_dict = dict(zip(feature_names, coefficients))\n",
    "\n",
    "# Sort the dictionary by absolute coefficient values\n",
    "coefficients_dict_sorted = {k: v for k, v in sorted(coefficients_dict.items(), key=lambda item: abs(item[1]), reverse=True)}\n",
    "\n",
    "# Print the sorted coefficients\n",
    "print(\"Feature Impact:\")\n",
    "for feature, coef in coefficients_dict_sorted.items():\n",
    "    print(f\"{feature}: {coef:.3f}\")\n"
   ]
  },
  {
   "cell_type": "code",
   "execution_count": null,
   "id": "8ff44abe",
   "metadata": {},
   "outputs": [],
   "source": []
  },
  {
   "cell_type": "markdown",
   "id": "3a762252",
   "metadata": {},
   "source": [
    "# Trim down input "
   ]
  },
  {
   "cell_type": "code",
   "execution_count": null,
   "id": "bbf38a66",
   "metadata": {},
   "outputs": [],
   "source": [
    "predictors=['Pregnancies','BMI','Insulin','BloodPressure']"
   ]
  },
  {
   "cell_type": "code",
   "execution_count": null,
   "id": "0a2e684c",
   "metadata": {},
   "outputs": [],
   "source": [
    "X = df[predictors].values\n",
    "y = df[target_column].values\n",
    "\n",
    "X_train, X_test, y_train, y_test = train_test_split(X, y, test_size=0.30, random_state=40)\n",
    "y_train = y_train.ravel()\n",
    "y_test = y_test.ravel()\n",
    "print(X_train.shape); print(X_test.shape)\n",
    "\n",
    "mlp = MLPClassifier(hidden_layer_sizes=(8,8,8), activation='relu', solver='adam', max_iter=500)\n",
    "mlp.fit(X_train,y_train)\n",
    "\n",
    "predict_train = mlp.predict(X_train)\n",
    "predict_test = mlp.predict(X_test)\n",
    "\n",
    "print(confusion_matrix(y_test,predict_test))\n",
    "print(classification_report(y_test,predict_test))"
   ]
  },
  {
   "cell_type": "markdown",
   "id": "1ff6e32c",
   "metadata": {},
   "source": [
    "Yup, our accuracy and precission did go down but mostly still good because the linear model gave us the hint of \n",
    "what actually matter, what not"
   ]
  },
  {
   "cell_type": "markdown",
   "id": "f749f017",
   "metadata": {},
   "source": [
    "# More layer, more Neuron the better ?\n",
    "We trained above with `(8,8,8)` : 3 layers with 8 neurons in each layer\n",
    "\n",
    "We now try a big one `(20,30,50,30,20)`"
   ]
  },
  {
   "cell_type": "code",
   "execution_count": null,
   "id": "c873e938",
   "metadata": {},
   "outputs": [],
   "source": [
    "mlp = MLPClassifier(hidden_layer_sizes=(20,30,50,30,20), activation='relu', solver='adam', max_iter=500)\n",
    "mlp.fit(X_train,y_train)\n",
    "\n",
    "predict_train = mlp.predict(X_train)\n",
    "predict_test = mlp.predict(X_test)\n",
    "\n",
    "print(confusion_matrix(y_test,predict_test))\n",
    "print(classification_report(y_test,predict_test))"
   ]
  },
  {
   "cell_type": "markdown",
   "id": "1bf8770a",
   "metadata": {},
   "source": [
    "Nope: still the same performance but much slower to train ..."
   ]
  },
  {
   "cell_type": "code",
   "execution_count": null,
   "id": "0cb3f3c8",
   "metadata": {},
   "outputs": [],
   "source": []
  }
 ],
 "metadata": {
  "kernelspec": {
   "display_name": "Python 3 (ipykernel)",
   "language": "python",
   "name": "python3"
  },
  "language_info": {
   "codemirror_mode": {
    "name": "ipython",
    "version": 3
   },
   "file_extension": ".py",
   "mimetype": "text/x-python",
   "name": "python",
   "nbconvert_exporter": "python",
   "pygments_lexer": "ipython3",
   "version": "3.10.12"
  }
 },
 "nbformat": 4,
 "nbformat_minor": 5
}
